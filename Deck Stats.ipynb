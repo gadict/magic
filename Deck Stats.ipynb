{
 "cells": [
  {
   "cell_type": "code",
   "execution_count": 15,
   "metadata": {},
   "outputs": [],
   "source": [
    "from mtg import *\n",
    "import numpy as np\n",
    "import pandas as pd\n",
    "import nbconvert\n",
    "import math\n",
    "import datetime as dt\n",
    "from matplotlib import pyplot as plt\n",
    "\n",
    "\n",
    "d = Deck(\"Muldrotha\", \"muldrotha.json\")\n",
    "cmcs = [x for x in range(13)]\n",
    "quantities = [0 for x in range(len(cmcs))]\n",
    "\n",
    "for card in d.cards.keys():\n",
    "    quantities[int(card['convertedManaCost'])] += d.cards[card] if (card['types'] != 'Land' and card['supertypes'] != 'Basic') else 0"
   ]
  },
  {
   "cell_type": "markdown",
   "metadata": {},
   "source": [
    "### Mana Curve"
   ]
  },
  {
   "cell_type": "code",
   "execution_count": 16,
   "metadata": {},
   "outputs": [
    {
     "data": {
      "image/png": "[encoded data removed]",
      "text/plain": [
       "<Figure size 432x288 with 1 Axes>"
      ]
     },
     "metadata": {
      "needs_background": "light"
     },
     "output_type": "display_data"
    }
   ],
   "source": [
    "%matplotlib inline\n",
    "b = plt.bar(cmcs,quantities)\n"
   ]
  },
  {
   "cell_type": "markdown",
   "metadata": {},
   "source": [
    "<h3><b>Card Types</b></h3>"
   ]
  },
  {
   "cell_type": "code",
   "execution_count": 7,
   "metadata": {},
   "outputs": [],
   "source": [
    "types = {}\n",
    "for card in d.cards:\n",
    "    ts = card['types'].split(',')\n",
    "    for x in ts:\n",
    "        types[x[0]] = types[x[0]]+d.cards[card] if x[0] in types.keys() else d.cards[card]"
   ]
  },
  {
   "cell_type": "code",
   "execution_count": 8,
   "metadata": {},
   "outputs": [
    {
     "data": {
      "image/png": "[encoded data removed]",
      "text/plain": [
       "<Figure size 432x288 with 1 Axes>"
      ]
     },
     "metadata": {
      "needs_background": "light"
     },
     "output_type": "display_data"
    }
   ],
   "source": [
    "%matplotlib inline \n",
    "bar = plt.bar(types.keys(),types.values())"
   ]
  },
  {
   "cell_type": "code",
   "execution_count": 9,
   "metadata": {},
   "outputs": [
    {
     "name": "stdout",
     "output_type": "stream",
     "text": [
      "C = 25\n",
      "I = 10\n",
      "E = 11\n",
      "L = 30\n",
      "A = 13\n",
      "S = 9\n",
      "P = 3\n"
     ]
    }
   ],
   "source": [
    "for x in types:\n",
    "    print(x,'=',types[x])"
   ]
  },
  {
   "cell_type": "code",
   "execution_count": null,
   "metadata": {},
   "outputs": [],
   "source": []
  }
 ],
 "metadata": {
  "interpreter": {
   "hash": "c32f6cbf0882a385d665819c44ffde09f3389eb8163040a884c4a1531323157c"
  },
  "kernelspec": {
   "display_name": "Python 3.7.8 64-bit",
   "name": "python3"
  },
  "language_info": {
   "codemirror_mode": {
    "name": "ipython",
    "version": 3
   },
   "file_extension": ".py",
   "mimetype": "text/x-python",
   "name": "python",
   "nbconvert_exporter": "python",
   "pygments_lexer": "ipython3",
   "version": "3.7.8"
  },
  "orig_nbformat": 4
 },
 "nbformat": 4,
 "nbformat_minor": 2
}
