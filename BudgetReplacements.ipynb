{
 "cells": [
  {
   "cell_type": "code",
   "execution_count": 23,
   "metadata": {},
   "outputs": [],
   "source": [
    "from mtg import *\n",
    "from sentence_transformers import SentenceTransformer as ST\n",
    "from sentence_transformers.util import pairwise_dot_score\n",
    "from categorize import *\n",
    "import pandas as pd\n",
    "\n",
    "def dataset():\n",
    "    data = pd.read_sql_query(\"\"\"SELECT * \n",
    "    FROM cards \n",
    "    ORDER BY name;\n",
    "    \"\"\",connectDB())\n",
    "    data = data.drop_duplicates('name')\n",
    "    data = data.dropna(axis=0, subset=['text'])\n",
    "    return data\n",
    "\n",
    "def cachedEmbeds(file=f\"{homeDir}/data/text/text_vectors_dot_score.json\"):\n",
    "    return np.array(json.loads(open(file).read()))\n",
    "\n",
    "def findSimilarCards(card,transformer,cardDataset,embeds,byCategory=False):\n",
    "    if type(card) is Card:\n",
    "        card = card.data\n",
    "    text = transformer.encode(card['text'],normalize_embeddings=True)\n",
    "    scores = pd.Series(pairwise_dot_score([text],embeds), index=cardDataset.index)\n",
    "    cardDataset['scores'] = scores\n",
    "    return cardDataset\n",
    "\n",
    "def defaultModel():\n",
    "    model = \"bert-base-nli-mean-tokens\"\n",
    "    tf = ST(model,cache_folder=f\"{homeDir}/data/text\")\n",
    "    return tf"
   ]
  },
  {
   "cell_type": "code",
   "execution_count": null,
   "metadata": {},
   "outputs": [],
   "source": [
    "data = dataset()"
   ]
  },
  {
   "cell_type": "code",
   "execution_count": null,
   "metadata": {},
   "outputs": [],
   "source": [
    "texts = data['text'].values"
   ]
  },
  {
   "cell_type": "code",
   "execution_count": null,
   "metadata": {},
   "outputs": [],
   "source": [
    "model = defaultModel()"
   ]
  },
  {
   "cell_type": "code",
   "execution_count": null,
   "metadata": {},
   "outputs": [],
   "source": [
    "embeds = model.encode(texts,normalize_embeddings=True)"
   ]
  },
  {
   "cell_type": "code",
   "execution_count": 2,
   "metadata": {},
   "outputs": [],
   "source": [
    "import sqlalchemy as db\n",
    "from mtg import *"
   ]
  },
  {
   "cell_type": "code",
   "execution_count": 43,
   "metadata": {},
   "outputs": [],
   "source": [
    "engine = db.create_engine(f\"sqlite:///{homeDir}/data/AllPrintings.sqlite\")\n",
    "conn = engine.connect()\n",
    "meta = db.MetaData()\n",
    "\n",
    "cards = db.Table(\"cards\",meta,autoload=True,autoload_with=engine)\n",
    "legalities = db.Table(\"legalities\",meta,autoload=True,autoload_with=engine)\n",
    "\n"
   ]
  },
  {
   "cell_type": "code",
   "execution_count": 45,
   "metadata": {},
   "outputs": [],
   "source": [
    "def commanderLegal():\n",
    "    \"\"\"\n",
    "    SELECT * \n",
    "    FROM cards \n",
    "    LEFT JOIN legalities \n",
    "    ON legalities.uuid == cards.uuid \n",
    "    ORDER BY name\n",
    "    \"\"\"\n",
    "    query = db.select([cards,legalities])\n",
    "    query = query.select_from(\n",
    "        cards.join(\n",
    "            legalities, cards.c.uuid == legalities.c.uuid\n",
    "        )\n",
    "            ).where(\n",
    "            db.and_(\n",
    "                legalities.c.format == \"commander\", legalities.c.status == \"Legal\")\n",
    "                ).order_by(cards.c.name)\n",
    "    results = conn.execute(query).fetchall()\n",
    "    #Create a DataFrame with the column names from the database.\n",
    "    df = pd.DataFrame(results)\n",
    "    df.columns = results[0].keys()\n",
    "    #Drop duplicate cards by name, then drop cards with no rules text\n",
    "    df = df.drop_duplicates('name')\n",
    "    df = df.dropna(axis=0,subset=['text'])\n",
    "    #The join inserts matching columns, in this case just UUID and ID, this probably isn't the optimal\n",
    "    #way of querying for legality, but it works and this isn't terribly expensive to do after the fact.\n",
    "    df.drop(['uuid_1','id_1'],axis=1,inplace=True)\n",
    "    return df"
   ]
  },
  {
   "cell_type": "code",
   "execution_count": 46,
   "metadata": {},
   "outputs": [],
   "source": [
    "comLegal = commanderLegal()"
   ]
  },
  {
   "cell_type": "code",
   "execution_count": null,
   "metadata": {},
   "outputs": [],
   "source": []
  }
 ],
 "metadata": {
  "interpreter": {
   "hash": "c32f6cbf0882a385d665819c44ffde09f3389eb8163040a884c4a1531323157c"
  },
  "kernelspec": {
   "display_name": "Python 3.7.8 64-bit",
   "name": "python3"
  },
  "language_info": {
   "codemirror_mode": {
    "name": "ipython",
    "version": 3
   },
   "file_extension": ".py",
   "mimetype": "text/x-python",
   "name": "python",
   "nbconvert_exporter": "python",
   "pygments_lexer": "ipython3",
   "version": "3.7.8"
  },
  "orig_nbformat": 4
 },
 "nbformat": 4,
 "nbformat_minor": 2
}
