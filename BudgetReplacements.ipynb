{
 "cells": [
  {
   "cell_type": "code",
   "execution_count": null,
   "metadata": {},
   "outputs": [],
   "source": [
    "from mtg import *\n",
    "from sentence_transformers import SentenceTransformer as ST\n",
    "from sentence_transformers.util import pairwise_dot_score\n",
    "from categorize import *\n",
    "import pandas as pd\n",
    "import torch\n",
    "\n",
    "def dataset():\n",
    "    data = formatLegal(\"commander\")\n",
    "    data = data.drop_duplicates('name')\n",
    "    data = data.dropna(axis=0, subset=['text'])\n",
    "    return data\n",
    "\n",
    "def cachedEmbeds(file=f\"{homeDir}/data/text/text_embeds.json\"):\n",
    "    return np.array(json.loads(open(file).read()))\n",
    "\n",
    "def findSimilarCards(card,transformer,cardDataset,embeds,thresh=0.8,byCategory=False,byColors=True):\n",
    "    if type(card) is Card:\n",
    "        card = card.data\n",
    "    text = transformer.encode(card['text'],normalize_embeddings=True)\n",
    "    scores = pd.Series(pairwise_dot_score([text],embeds), index=cardDataset.index)\n",
    "    cardDataset['score'] = scores\n",
    "    mask = cardDataset.loc[cardDataset.score >= thresh,:].index\n",
    "    cardDataset = cardDataset.loc[mask,:]\n",
    "    if byColors:\n",
    "        mask = cardDataset['colors'].apply(lambda colors: compareColors(colors,card['colorIdentity']))\n",
    "        cardDataset = cardDataset.loc[mask,:]\n",
    "    if byCategory:\n",
    "        card = catCard(card)\n",
    "        cardDataset = categorize(cardDataset)\n",
    "        mask = cardDataset.loc[cardDataset.category == card.category,:].index\n",
    "        cardDataset = cardDataset.loc[mask,:]\n",
    "    return cardDataset    \n",
    "\n",
    "def defaultModel():\n",
    "    model = \"bert-base-nli-mean-tokens\"\n",
    "    tf = ST(f\"{homeDir}/data/text/sentence-transformers_bert-base-nli-mean-tokens\",cache_folder=f\"{homeDir}/data/text\")\n",
    "    return tf"
   ]
  }
 ],
 "metadata": {
  "interpreter": {
   "hash": "c32f6cbf0882a385d665819c44ffde09f3389eb8163040a884c4a1531323157c"
  },
  "kernelspec": {
   "display_name": "Python 3.7.8 64-bit",
   "name": "python3"
  },
  "language_info": {
   "codemirror_mode": {
    "name": "ipython",
    "version": 3
   },
   "file_extension": ".py",
   "mimetype": "text/x-python",
   "name": "python",
   "nbconvert_exporter": "python",
   "pygments_lexer": "ipython3",
   "version": "3.7.8"
  },
  "orig_nbformat": 4
 },
 "nbformat": 4,
 "nbformat_minor": 2
}
